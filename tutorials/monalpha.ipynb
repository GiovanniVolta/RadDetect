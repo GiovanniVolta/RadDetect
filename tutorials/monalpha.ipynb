{
 "cells": [
  {
   "cell_type": "code",
   "execution_count": null,
   "metadata": {},
   "outputs": [],
   "source": [
    "import numpy as np\n",
    "import scipy as sp\n",
    "\n",
    "import matplotlib.pyplot as plt\n",
    "import matplotlib as mpl\n",
    "\n",
    "import raddetect as rd"
   ]
  },
  {
   "cell_type": "code",
   "execution_count": null,
   "metadata": {},
   "outputs": [],
   "source": [
    "from scipy.stats import crystalball\n",
    "from scipy.stats import norm"
   ]
  },
  {
   "cell_type": "code",
   "execution_count": null,
   "metadata": {},
   "outputs": [],
   "source": [
    "# It works only in the MPIK network\n",
    "monalpha = rd.MonalphaAnalysis(filename='Mn29072024', energy_calibration=[0.13942, 23.36])"
   ]
  },
  {
   "cell_type": "code",
   "execution_count": null,
   "metadata": {},
   "outputs": [],
   "source": [
    "monalpha.get_base_plot(n_mca=500, n_timestamp=200)"
   ]
  },
  {
   "cell_type": "code",
   "execution_count": null,
   "metadata": {},
   "outputs": [],
   "source": [
    "class Model:\n",
    "    def __init__(self, \n",
    "                x,\n",
    "                # beta1, m1,\n",
    "                loc1, scale1, A1, \n",
    "                beta2, m2, loc2, scale2, A2\n",
    "                ):\n",
    "        self.x = x\n",
    "        #self.beta1 = beta1\n",
    "        #self.m1 = m1\n",
    "        self.loc1 = loc1\n",
    "        self.scale1 = scale1\n",
    "        self.A1 = A1\n",
    "        self.beta2 = beta2\n",
    "        self.m2 = m2\n",
    "        self.loc2 = loc2\n",
    "        self.scale2 = scale2\n",
    "        self.A2 = A2\n",
    "        self.compute_terms()\n",
    "\n",
    "    def compute_terms(self):\n",
    "        self.norm_1 = self.A1 * norm.pdf(self.x, loc=self.loc1, scale=self.scale1)\n",
    "        # self.crystalball_1 = self.A1 * crystalball.pdf(self.x, self.beta1, self.m1, loc=self.loc1, scale=self.scale1)\n",
    "        self.crystalball_2 = self.A2 * crystalball.pdf(self.x, self.beta2, self.m2, loc=self.loc2, scale=self.scale2) \n",
    "\n",
    "    def sum_terms(self):\n",
    "        return self.norm_1 + self.crystalball_2\n",
    "\n",
    "    @staticmethod\n",
    "    def total_model(x, \n",
    "                    # beta1, m1, \n",
    "                    loc1, scale1, A1, \n",
    "                    beta2, m2, loc2, scale2, A2\n",
    "                    ):\n",
    "        model_instance = Model(x, \n",
    "                            # beta1, m1, \n",
    "                            loc1, scale1, A1, \n",
    "                            beta2, m2, loc2, scale2, A2\n",
    "                            )\n",
    "        return model_instance.sum_terms()\n",
    "\n",
    "init = {\n",
    "    # 'beta1': 1, 'm1': 2, \n",
    "    'loc1': 665, 'scale1': 3, 'A1': 100,\n",
    "    'beta2': 1, 'm2': 2, 'loc2': 690, 'scale2': 3, 'A2': 3500\n",
    "}\n",
    "\n",
    "fixed = {\n",
    "    # 'beta1': False, 'm1': False, \n",
    "    'loc1': False, 'scale1': False, 'A1': False, \n",
    "    'beta2': False, 'm2': False, 'loc2': False, 'scale2': False, 'A2': False,    \n",
    "}\n",
    "\n",
    "_MCA_range = [655, 710]\n",
    "_MCA_counts_limit = 1\n",
    "m = monalpha.get_mca_spectrum_fitting_object(model=Model, init=init, MCA_range=_MCA_range, MCA_counts_limit=_MCA_counts_limit, fixed=fixed)\n",
    "m.migrad()\n",
    "# m.minos()\n",
    "# m.hesse()"
   ]
  },
  {
   "cell_type": "code",
   "execution_count": null,
   "metadata": {},
   "outputs": [],
   "source": [
    "data, channels = monalpha.get_mca_histogram(MCA_range=[0, 1300])\n",
    "_data, _channels = monalpha.get_mca_histogram(MCA_range=_MCA_range)\n",
    "mask = (_data > _MCA_counts_limit)\n",
    "_data = _data[mask]\n",
    "_channels = _channels[mask]\n",
    "_model = Model(_channels, *np.array(m.values))\n",
    "\n",
    "x = np.arange(0, 1300, 0.1)\n",
    "model = Model(x, *np.array(m.values))\n",
    "\n",
    "fig, (ax1, ax2) = plt.subplots(2, 1, figsize=(12, 6), dpi=200, sharex=True, gridspec_kw={'height_ratios':[2,1], 'hspace': 0.05})\n",
    "\n",
    "ax1.errorbar(channels, data, yerr=np.sqrt(data), lw=0, marker='o', color='black', ms=3, elinewidth=1, alpha=0.25)\n",
    "ax1.errorbar(_channels, _data, yerr=np.sqrt(_data), lw=0, marker='o', color='black', ms=3, elinewidth=1, alpha=1)\n",
    "\n",
    "l = ax1.plot(x, model.sum_terms(), ls='-', color='darkred', zorder=5)\n",
    "ax1.plot(x, model.norm_1, ls='--', lw=1.5, color='red', alpha=0.5, zorder=3)\n",
    "ax1.plot(x, model.crystalball_2, ls='--', lw=1.5, color='orange', alpha=0.5, zorder=3)\n",
    "\n",
    "ax2.plot(_channels, (_data - _model.sum_terms()) / np.sqrt(_data), lw=0, marker='.', color=l[0].get_color())\n",
    "\n",
    "ax2.axhspan(-2, 2, color='yellow', lw=0, alpha=0.25)\n",
    "ax2.axhspan(-1, 1, color='green', lw=0, alpha=0.35)\n",
    "\n",
    "ax1.set_yscale('log')\n",
    "ax1.set_ylim(1e0, 1e4)\n",
    "ax1.set_xlim(400, 1300)\n",
    "\n",
    "ax1.grid()\n",
    "\n",
    "# ax2.set_ylim(-5, 50)\n",
    "ax2.grid()\n",
    "\n",
    "ax2.set_xlabel('MCA channel')\n",
    "ax1.set_ylabel('Counts')\n",
    "ax2.set_ylabel('Residual [$\\sigma$]')\n",
    "        \n",
    "plt.tight_layout()\n",
    "plt.show()"
   ]
  },
  {
   "cell_type": "markdown",
   "metadata": {},
   "source": [
    "# Activity estimation"
   ]
  },
  {
   "cell_type": "code",
   "execution_count": null,
   "metadata": {},
   "outputs": [],
   "source": [
    "tot_counts = np.sum(_data) * np.diff(_channels)[0]\n",
    "tot_counts_err = np.sqrt(np.sum(_data) * np.diff(_channels)[0])\n",
    "livetime = ( max(monalpha.timestamp) - min(monalpha.timestamp) ) # this is not corrected for the deadtime\n",
    "measured_activity = tot_counts / livetime\n",
    "measured_activity_err = tot_counts_err / livetime\n",
    "\n",
    "print(f'Activity given data in {_MCA_range}: {measured_activity:.4f} +/- {measured_activity_err:.4f} Hz')"
   ]
  },
  {
   "cell_type": "code",
   "execution_count": null,
   "metadata": {},
   "outputs": [],
   "source": [
    "# see here for all the geometrical efficiencies: https://docs.google.com/spreadsheets/d/1N4GCnCQyMScjAJV0-CRPdfsBdWHai_owmR4s_UxL4Is/edit?gid=0#gid=0\n",
    "# carefull that they might be outdated !!\n",
    "eff = 2.93/2/100\n",
    "eff_err = 0.02/2/100\n",
    "\n",
    "true_activity = measured_activity / eff\n",
    "true_activity_err = np.sqrt( (measured_activity_err/measured_activity)**2 + eff_err**2  ) \n",
    "\n",
    "print(f'Corrected activity: {true_activity:.3f} +/- {true_activity_err:.3f} Bq')"
   ]
  },
  {
   "cell_type": "code",
   "execution_count": null,
   "metadata": {},
   "outputs": [],
   "source": []
  },
  {
   "cell_type": "markdown",
   "metadata": {},
   "source": []
  }
 ],
 "metadata": {
  "kernelspec": {
   "display_name": "Python 3 (ipykernel)",
   "language": "python",
   "name": "python3"
  },
  "language_info": {
   "codemirror_mode": {
    "name": "ipython",
    "version": 3
   },
   "file_extension": ".py",
   "mimetype": "text/x-python",
   "name": "python",
   "nbconvert_exporter": "python",
   "pygments_lexer": "ipython3",
   "version": "3.10.12"
  }
 },
 "nbformat": 4,
 "nbformat_minor": 2
}
